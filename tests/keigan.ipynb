{
 "cells": [
  {
   "cell_type": "code",
   "execution_count": 1,
   "metadata": {},
   "outputs": [],
   "source": [
    "import os\n",
    "from pprint import pprint\n",
    "\n",
    "import serial\n",
    "import serial.tools.list_ports\n",
    "from pykeigan import usbcontroller, utils\n",
    "\n",
    "from importers import JumpDir\n",
    "\n",
    "with JumpDir(os.path.join('..', 'src'), os.getcwd()):\n",
    "\t__import__('ugokukun')\n",
    "from ugokukun.keigan_wrapper import KeiganWrapper"
   ]
  },
  {
   "cell_type": "markdown",
   "metadata": {},
   "source": [
    "List all serial ports.\n",
    "\n",
    "If sudo privileges are required, try adding user to the `dialout` group.\n",
    "\n",
    "[https://askubuntu.com/questions/133235/how-do-i-allow-non-root-access-to-ttyusb0](https://askubuntu.com/questions/133235/how-do-i-allow-non-root-access-to-ttyusb0)\n",
    "\n",
    "```bash\n",
    "sudo adduser $USER dialout\n",
    "```"
   ]
  },
  {
   "cell_type": "code",
   "execution_count": 2,
   "metadata": {},
   "outputs": [
    {
     "name": "stdout",
     "output_type": "stream",
     "text": [
      "/dev/ttyUSB0: FT230X Basic UART - FT230X Basic UART [USB VID:PID=0403:6015 SER=DM00KFY6 LOCATION=3-4]\n",
      "# of ports: 1\n",
      "Using port /dev/ttyUSB0\n"
     ]
    }
   ],
   "source": [
    "ports = serial.tools.list_ports.comports()\n",
    "for port, desc, hwid in ports:\n",
    "    print(f\"{port}: {desc} [{hwid}]\")\n",
    "print(\"# of ports:\", len(ports))\n",
    "# port = '/dev/ttyUSB0'\n",
    "port = ports[0].device\n",
    "print(f\"Using port {port}\")"
   ]
  },
  {
   "cell_type": "code",
   "execution_count": 3,
   "metadata": {},
   "outputs": [
    {
     "name": "stdout",
     "output_type": "stream",
     "text": [
      "NOTICE: attempting to kill any process using the serial port: /dev/ttyUSB0\n",
      "shell error:  \n",
      "Connecting to motor...\n",
      "rev time 0.11294126510620117\n",
      "rev time 0.13544201850891113\n",
      "Probably connected (not sure until it's used).\n",
      "  If this is not the first connection to the motor, it can get stuck in an endless loop in:\n",
      "  - pykeigan.usbcontroller.USBController.reconnect()\n",
      "  If the connection works fine, you can just ignore it.\n",
      "Initialized Keigan motor at: /dev/ttyUSB0\n",
      "\n"
     ]
    }
   ],
   "source": [
    "motor = KeiganWrapper(port)"
   ]
  },
  {
   "cell_type": "code",
   "execution_count": 8,
   "metadata": {},
   "outputs": [],
   "source": [
    "motor.turn_relative(clock_wise=False, degrees=270)"
   ]
  }
 ],
 "metadata": {
  "kernelspec": {
   "display_name": "naro310",
   "language": "python",
   "name": "python3"
  },
  "language_info": {
   "codemirror_mode": {
    "name": "ipython",
    "version": 3
   },
   "file_extension": ".py",
   "mimetype": "text/x-python",
   "name": "python",
   "nbconvert_exporter": "python",
   "pygments_lexer": "ipython3",
   "version": "3.10.12"
  }
 },
 "nbformat": 4,
 "nbformat_minor": 2
}
